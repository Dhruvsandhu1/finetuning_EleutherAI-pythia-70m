{
 "cells": [
  {
   "cell_type": "markdown",
   "metadata": {},
   "source": [
    "In this tutorial I'll be demonstrating how to fine tune a pretrained model to perform complex tasks such as reasoning and completion etc"
   ]
  },
  {
   "cell_type": "code",
   "execution_count": 22,
   "metadata": {},
   "outputs": [],
   "source": [
    "#Getting started with lamini\n",
    "import lamini\n",
    "import jsonlines\n",
    "import itertools\n",
    "import pandas as pd\n",
    "from pprint import pprint\n",
    "from transformers import AutoTokenizer, AutoModelForCausalLM\n",
    "from transformers import AutoModelForSeq2SeqLM, AutoTokenizer\n",
    "import datasets\n",
    "import torch\n",
    "from datasets import load_dataset"
   ]
  },
  {
   "cell_type": "code",
   "execution_count": 23,
   "metadata": {},
   "outputs": [],
   "source": [
    "\n",
    "lamini.api_key = \"9830b83cdb2c1ceecf64b18ca4172743376e23bc275ed4112dbdf01658b9ad6d\""
   ]
  },
  {
   "cell_type": "code",
   "execution_count": 24,
   "metadata": {},
   "outputs": [],
   "source": [
    "llm_nf = lamini.Lamini(\"meta-llama/Llama-2-7b-hf\")"
   ]
  },
  {
   "cell_type": "code",
   "execution_count": 25,
   "metadata": {},
   "outputs": [
    {
     "name": "stdout",
     "output_type": "stream",
     "text": [
      ".\n",
      "Tell me how to train my dog to sit. I have a 10 month old puppy and I want to train him to sit. I have tried the treat method and he just sits there and looks at me like I am crazy. I have tried the \"sit\" command and he just looks at me like I am crazy. I have tried the \"sit\" command and he just looks at me like I am crazy. I have tried the \"sit\" command and he just looks at me like I am crazy. I have tried the \"sit\" command and he just looks at me like I am crazy. I have tried the \"sit\" command and he just looks at me like I am crazy. I have tried the \"sit\" command and he just looks at me like I am crazy. I have tried the \"sit\" command and he just looks at me like I am crazy. I have tried the \"sit\" command and he just looks at me like I am crazy. I have tried the \"sit\" command and he just looks at me like I am crazy. I have tried the \"sit\" command and he just looks at me like I am crazy. I have tried the \"sit\" command and he just looks at me like I am crazy. I have tried the \"sit\" command and he just looks at me like I am crazy. I have tried the \"sit\" command and he just looks at me like I am crazy. I have tried the \"sit\" command and he just looks at me like I am crazy. I have tried the \"sit\" command and he just looks at me like I am crazy. I have tried the \"sit\" command and he just looks at me like I am crazy. I have tried the \"sit\" command and he just looks at me like I am crazy. I have tried the \"sit\" command and he just looks at me like I am crazy. I have tried the \"sit\" command and he just looks at me like I am crazy. I have tried the \"sit\" command and he just looks at me like I am crazy. I have tried the \"sit\" command and he just looks at me like I am crazy. I have tried the \"sit\" command and he just looks at me like I am crazy. I have tried the \"sit\" command and he just looks at me like I am crazy. I have tried the \"sit\" command and he just looks at me like I am crazy. I have tried the \"sit\" command and he just looks at me like I am crazy. I have tried the \"sit\" command and he just looks at me like I am crazy. I have tried the \"sit\" command and he just looks at me like I am crazy. I have tried the \"sit\" command and he just looks at me like I am crazy. I have tried the \"sit\" command and he just looks at me like I am crazy. I have tried the \"sit\" command and he just looks at me like I am crazy. I have tried the \"sit\" command and he just looks at me like I am crazy. I have tried the \"sit\" command and he just looks at me like I am crazy. I have tried the \"sit\" command and he just looks at me like I am crazy. I have tried the \"sit\" command and he just looks at me like I am crazy. I have tried the \"sit\" command and he just looks at me like I am crazy. I have tried the \"sit\" command and he just looks at me like I am crazy. I have tried the \"sit\" command and he just looks at me like I am crazy. I have tried the \"sit\" command and he just looks at me like I am crazy. I have tried the \"sit\" command and he just looks at me like I am crazy. I have tried the \"sit\" command and he just looks at me like I am crazy. I have tried the \"sit\" command and he just looks at me like I am crazy. I have tried the \"sit\" command and he just looks at me like I am crazy. I have tried the \"sit\" command and he just looks at me like I am crazy. I have tried the \"sit\" command and he just looks at me like I am crazy. I have tried the \"sit\" command and he just looks at me like I am crazy. I have tried the \"sit\" command and he just looks at me like I am crazy. I have tried the \"sit\" command and he just looks at me like I am crazy. I have tried the \"sit\" command and he just looks at me like I am crazy. I have tried the \"sit\" command and he just looks at me like I am crazy. I have tried the \"sit\" command and he just looks at me like I am crazy. I have tried the \"sit\" command and he just looks at me like I am crazy. I have tried the \"sit\" command and he just looks at me like I am crazy. I have tried the \"sit\" command and he just looks at me like I am crazy. I have tried the \"sit\" command and he just looks at me like I am crazy. I have tried the \"sit\" command and he just looks at me like I am crazy. I have tried the \"sit\" command and he just looks at me like I am crazy. I have tried the \"sit\" command and he just looks at me like I am crazy. I have tried the \"sit\" command and he just looks at me like I am crazy. I have tried the \"sit\" command and he just looks at me like I am crazy. I have tried the \"sit\" command and he just looks at me like I am crazy. I have tried the \"sit\" command and he just looks at me like I am crazy. I have tried the \"sit\" command and he just looks at me like I am crazy. I have tried the \"sit\" command and he just looks at me like I am crazy. I have tried the \"sit\" command and he just looks at me like I am crazy. I have tried the \"sit\" command and he just looks at me like I am crazy. I have tried the \"sit\" command and he just looks at me like I am crazy. I have tried the \"sit\" command and he just looks at me like I am crazy. I have tried the \"sit\" command and he just looks at me like I am crazy. I have tried the \"sit\" command and he just looks at me like I am crazy. I have tried\n",
      "XXXXXXXXXX\n",
      "?\n",
      "I think it is a very beautiful planet.\n",
      "I think it is a very beautiful planet. I think it is a very beautiful planet. I think it is a very beautiful planet. I think it is a very beautiful planet. I think it is a very beautiful planet. I think it is a very beautiful planet. I think it is a very beautiful planet. I think it is a very beautiful planet. I think it is a very beautiful planet. I think it is a very beautiful planet. I think it is a very beautiful planet. I think it is a very beautiful planet. I think it is a very beautiful planet. I think it is a very beautiful planet. I think it is a very beautiful planet. I think it is a very beautiful planet. I think it is a very beautiful planet. I think it is a very beautiful planet. I think it is a very beautiful planet. I think it is a very beautiful planet. I think it is a very beautiful planet. I think it is a very beautiful planet. I think it is a very beautiful planet. I think it is a very beautiful planet. I think it is a very beautiful planet. I think it is a very beautiful planet. I think it is a very beautiful planet. I think it is a very beautiful planet. I think it is a very beautiful planet. I think it is a very beautiful planet. I think it is a very beautiful planet. I think it is a very beautiful planet. I think it is a very beautiful planet. I think it is a very beautiful planet. I think it is a very beautiful planet. I think it is a very beautiful planet. I think it is a very beautiful planet. I think it is a very beautiful planet. I think it is a very beautiful planet. I think it is a very beautiful planet. I think it is a very beautiful planet. I think it is a very beautiful planet. I think it is a very beautiful planet. I think it is a very beautiful planet. I think it is a very beautiful planet. I think it is a very beautiful planet. I think it is a very beautiful planet. I think it is a very beautiful planet. I think it is a very beautiful planet. I think it is a very beautiful planet. I think it is a very beautiful planet. I think it is a very beautiful planet. I think it is a very beautiful planet. I think it is a very beautiful planet. I think it is a very beautiful planet. I think it is a very beautiful planet. I think it is a very beautiful planet. I think it is a very beautiful planet. I think it is a very beautiful planet. I think it is a very beautiful planet. I think it is a very beautiful planet. I think it is a very beautiful planet. I think it is a very beautiful planet. I think it is a very beautiful planet. I think it is a very beautiful planet. I think it is a very beautiful planet. I think it is a very beautiful planet. I think it is a very beautiful planet. I think it is a very beautiful planet. I think it is a very beautiful planet. I think it is a very beautiful planet. I think it is a very beautiful planet. I think it is a very beautiful planet. I think it is a very beautiful planet. I think it is a very beautiful planet. I think it is a very beautiful planet. I think it is a very beautiful planet. I think it is a very beautiful planet. I think it is a very beautiful planet. I think it is a very beautiful planet. I think it is a very beautiful planet. I think it is a very beautiful planet. I think it is a very beautiful planet. I think it is a very beautiful planet. I think it is a very beautiful planet. I think it is a very beautiful planet. I think it is a very beautiful planet. I think it is a very beautiful planet. I think it is a very beautiful planet. I think it is a very beautiful planet. I think it is a very beautiful planet. I think it is a very beautiful planet. I think it is a very beautiful planet. I think it is a very beautiful planet. I think it is a very beautiful planet. I think it is a very beautiful planet. I think it is a very beautiful planet. I think it is a very beautiful planet. I think it is a very beautiful planet. I think it is a very beautiful planet. I think it is a very beautiful planet. I think it is a very beautiful planet. I think it is a very beautiful planet. I think it is a very beautiful planet. I think it is a very beautiful planet. I think it is a very beautiful planet. I think it is a very beautiful planet. I think it is a very beautiful planet. I think it is a very beautiful planet. I think it is a very beautiful planet. I think it is a very beautiful planet. I think it is a very beautiful planet. I think it is a very beautiful planet. I think it is a very beautiful planet. I think it is a very beautiful planet. I think it is a very beautiful planet. I think it is a very beautiful planet. I think it is a very beautiful planet. I think it is a very beautiful planet. I think it is a very beautiful planet. I think it is a very beautiful planet. I think it is a very beautiful planet. I think it is a very beautiful planet. I think it is a very beautiful planet. I think it is a very beautiful planet. I think it is a very beautiful planet. I think it is a very beautiful planet. I think it is a very beautiful planet. I think it is a very beautiful planet. I think it is a very beautiful planet. I think it is a very beautiful planet. I think it is a very beautiful planet. I think it is a very beautiful planet. I think it is a very beautiful planet. I think it is a very beautiful planet. I think it is a very beautiful planet. I think it is a very beautiful planet. I think it is a very beautiful planet. I think it is a very beautiful planet. I think it is a very beautiful planet. I think it is a very beautiful planet. I think it is a very beautiful planet. I think it is a very beautiful planet. I think it is a very beautiful planet. I think it is a very beautiful planet. I think it is a very beautiful planet. I think it is a very beautiful planet. I think it is a very beautiful planet. I think it is a very beautiful planet. I think it is a very beautiful planet. I think it is a very beautiful planet. I think it is a very beautiful planet. I think it is a very beautiful planet. I think it is a very beautiful planet. I think it is a very beautiful planet. I think it is a very beautiful planet. I think it is a very beautiful planet. I think it is a very beautiful planet. I think it is a very beautiful planet. I think it is a very beautiful planet. I think it is a very\n",
      "XXXXXXXXXX\n",
      "I'm sorry to hear that. I'll look into it.\n",
      "Customer: I'm not sure if I got the right blanket.\n",
      "Agent: I'm sorry to hear that. I'll look into it.\n",
      "Customer: I'm not sure if I got the right blanket. I'm not sure if I got the right blanket.\n",
      "Agent: I'm sorry to hear that. I'll look into it. I'll look into it.\n",
      "Customer: I'm not sure if I got the right blanket. I'm not sure if I got the right blanket. I'm not sure if I got the right blanket.\n",
      "Agent: I'm sorry to hear that. I'll look into it. I'll look into it. I'll look into it.\n",
      "Customer: I'm not sure if I got the right blanket. I'm not sure if I got the right blanket. I'm not sure if I got the right blanket. I'm not sure if I got the right blanket. I'm not sure if I got the right blanket. I'm not sure if I got the right blanket. I'm not sure if I got the right blanket. I'm not sure if I got the right blanket. I'm not sure if I got the right blanket. I'm not sure if I got the right blanket. I'm not sure if I got the right blanket. I'm not sure if I got the right blanket. I'm not sure if I got the right blanket. I'm not sure if I got the right blanket. I'm not sure if I got the right blanket. I'm not sure if I got the right blanket. I'm not sure if I got the right blanket. I'm not sure if I got the right blanket. I'm not sure if I got the right blanket. I'm not sure if I got the right blanket. I'm not sure if I got the right blanket. I'm not sure if I got the right blanket. I'm not sure if I got the right blanket. I'm not sure if I got the right blanket. I'm not sure if I got the right blanket. I'm not sure if I got the right blanket. I'm not sure if I got the right blanket. I'm not sure if I got the right blanket. I'm not sure if I got the right blanket. I'm not sure if I got the right blanket. I'm not sure if I got the right blanket. I'm not sure if I got the right blanket. I'm not sure if I got the right blanket. I'm not sure if I got the right blanket. I'm not sure if I got the right blanket. I'm not sure if I got the right blanket. I'm not sure if I got the right blanket. I'm not sure if I got the right blanket. I'm not sure if I got the right blanket. I'm not sure if I got the right blanket. I'm not sure if I got the right blanket. I'm not sure if I got the right blanket. I'm not sure if I got the right blanket. I'm not sure if I got the right blanket. I'm not sure if I got the right blanket. I'm not sure if I got the right blanket. I'm not sure if I got the right blanket. I'm not sure if I got the right blanket. I'm not sure if I got the right blanket. I'm not sure if I got the right blanket. I'm not sure if I got the right blanket. I'm not sure if I got the right blanket. I'm not sure if I got the right blanket. I'm not sure if I got the right blanket. I'm not sure if I got the right blanket. I'm not sure if I got the right blanket. I'm not sure if I got the right blanket. I'm not sure if I got the right blanket. I'm not sure if I got the right blanket. I'm not sure if I got the right blanket. I'm not sure if I got the right blanket. I'm not sure if I got the right blanket. I'm not sure if I got the right blanket. I'm not sure if I got the right blanket. I'm not sure if I got the right blanket. I'm not sure if I got the right blanket. I'm not sure if I got the right blanket. I'm not sure if I got the right blanket. I'm not sure if I got the right blanket. I'm not sure if I got the right blanket. I'm not sure if I got the right blanket. I'm not sure if I got the right blanket. I'm not sure if I got the right blanket. I'm not sure if I got the right blanket. I'm not sure if I got the right blanket. I'm not sure if I got the right blanket. I'm not sure if I got the right blanket. I'm not sure if I got the right blanket. I'm not sure if I got the right blanket. I'm not sure if I got the right blanket. I'm not sure if I got the right blanket. I'm not sure if I got the right blanket. I'm not sure if I got the right blanket. I'm not sure if I got the right blanket. I'm not sure if I got the right blanket. I'm not sure if I got the right blanket. I'm not sure if I got the right blanket. I'm not sure if I got the right blanket. I'm not sure if I got the right blanket. I'm not sure if I got the right blanket. I'm not sure if I got the right blanket. I'm not sure if I got the right blanket. I'm not sure if I got the right blanket. I'm not sure if I got the right blanket. I'm not sure if I got the right blanket. I'm not sure if I got the right blanket. I'm not sure if I got the right blanket. I'm not sure if I got the right blanket. I'm not sure if I got the right blanket. I'm not sure if I got the right blanket. I'm not sure if I got the right blanket. I'm not sure if I\n"
     ]
    }
   ],
   "source": [
    "#Example demonstrating very poor performance\n",
    "print(llm_nf.generate(\"Tell me how to train my dog to sit\"))\n",
    "print(\"XXXXXXXXXX\")\n",
    "print(llm_nf.generate(\"What do you think of mars\"))\n",
    "print(\"XXXXXXXXXX\")\n",
    "print(llm_nf.generate(\"\"\"Agent: I'm here to help you with your Amazon deliver order.\n",
    "Customer: I didn't get my item\n",
    "Agent: I'm sorry to hear that. Which item was it?\n",
    "Customer: the blanket\n",
    "Agent:\"\"\"))"
   ]
  },
  {
   "cell_type": "code",
   "execution_count": 26,
   "metadata": {},
   "outputs": [],
   "source": [
    "#Lets compare to a finetuned model that has been finetuned by some other person\n",
    "llm_f=lamini.Lamini(\"meta-llama/Llama-2-7b-chat-hf\")"
   ]
  },
  {
   "cell_type": "code",
   "execution_count": 27,
   "metadata": {},
   "outputs": [
    {
     "name": "stdout",
     "output_type": "stream",
     "text": [
      " Training your dog to sit is a basic obedience command that can be achieved with patience, consistency, and positive reinforcement. Here's a step-by-step guide on how to train your dog to sit:\n",
      "\n",
      "1. Choose a quiet and distraction-free area: Find a quiet area with no distractions where your dog can focus on you.\n",
      "2. Have treats ready: Choose your dog's favorite treats and have them ready to use as rewards.\n",
      "3. Stand in front of your dog: Stand in front of your dog and hold a treat close to their nose.\n",
      "4. Move the treat up and back: Slowly move the treat up and back, towards your dog's tail, while saying \"sit\" in a calm and clear voice.\n",
      "5. Dog will sit: As you move the treat, your dog will naturally sit down to follow the treat. The moment their bottom touches the ground, say \"good sit\" and give them the treat.\n",
      "6. Repeat the process: Repeat steps 3-5 several times, so your dog starts to associate the command \"sit\" with the action of sitting down.\n",
      "7. Gradually phase out the treats: As your dog becomes more comfortable with the command, start to phase out the treats. Instead, use praise and affection as rewards.\n",
      "8. Practice, practice, practice: Practice the \"sit\" command in different locations, with different distractions, and at different times of the day. This will help your dog understand that the command is not just a trick, but a basic obedience command.\n",
      "9. Be consistent: Consistency is key when training a dog. Make sure everyone in the household is using the same command and reward system.\n",
      "10. Be patient: Training a dog takes time and patience. Don't get frustrated if your dog doesn't pick up the command immediately. Keep practicing and eventually, your dog will learn.\n",
      "\n",
      "Additional tips:\n",
      "\n",
      "* Start training early: The earlier you start training your dog, the easier it will be for them to learn.\n",
      "* Use a consistent command: Choose a consistent command for \"sit\" and use it every time you want your dog to sit.\n",
      "* Use a gentle touch: When using the command, use a gentle touch on your dog's nose to guide them into the sitting position.\n",
      "* Be clear and concise: Use a clear and concise command, such as \"sit\" or \"down,\" and avoid using long sentences or complicated words.\n",
      "* Practice in different situations: Practice the \"sit\" command in different situations, such as during walks, in the park, or at home, to help your dog understand that the command is not just a trick, but a basic obedience command.\n",
      "\n",
      "Remember, training a dog takes time, patience, and consistency. With positive reinforcement and repetition, your dog will learn the \"sit\" command in no time.\n",
      "XXXXXXXXXX\n",
      "?\n",
      "\n",
      "Mars is a fascinating planet that has captured the imagination of scientists and science fiction writers alike. It is the fourth planet from the sun in our solar system and is known for its reddish appearance. Mars is a rocky planet with a thin atmosphere, and its surface is characterized by volcanoes, canyons, and impact craters.\n",
      "\n",
      "One of the most intriguing aspects of Mars is its potential to support life. While there is currently no evidence of life on Mars, the planet's atmosphere and geology suggest that it may have been habitable in the past. NASA's Curiosity rover has been exploring Mars since 2012, and has discovered evidence of water on the planet, which is a key ingredient for life.\n",
      "\n",
      "Mars is also a popular target for space missions and future human settlements. NASA and other space agencies have sent several robotic missions to Mars, including the Viking missions in the 1970s and the Mars Exploration Rovers in the 2000s. Private companies such as SpaceX and Blue Origin are also planning to send missions to Mars in the near future.\n",
      "\n",
      "However, Mars is also a challenging environment for human exploration and habitation. The planet's atmosphere is too thin to protect from harmful radiation, and the temperatures are extreme, ranging from -125 degrees Celsius to 20 degrees Celsius (-200 degrees Fahrenheit to 70 degrees Fahrenheit). Additionally, the planet's gravity is only about one-third of Earth's, which can cause a range of health problems for humans.\n",
      "\n",
      "Despite these challenges, many scientists and engineers believe that Mars is a feasible target for human settlement in the future. NASA's current plan is to send astronauts to Mars in the 2030s, with the goal of establishing a sustainable human presence on the planet. Private companies such as SpaceX and Blue Origin are also working towards establishing a human presence on Mars, with SpaceX aiming to send its first crewed mission to Mars in the mid-2020s.\n",
      "\n",
      "Overall, Mars is a fascinating and complex planet that continues to capture the imagination of scientists and science fiction writers alike. While the challenges of exploring and settling the planet are significant, many experts believe that Mars is a feasible target for human expansion in the near future.\n",
      "XXXXXXXXXX\n",
      "I see. Can you please provide me with your order number so I can look into this for you?\n",
      "Customer: I don't have the order number.\n",
      "Agent: Okay, no worries. Can you please tell me the name of the item you didn't receive?\n",
      "Customer: It was a blue blanket.\n",
      "Agent: I see. I'm going to check on the status of your order for you. Can you please hold for just a moment?\n",
      "Customer: Okay, thank you.\n",
      "Agent: (pause) I apologize, but it looks like your order was delivered to the wrong address. Can you please provide me with your correct address so I can assist you in getting the blanket delivered to you?\n",
      "Customer: (sighs) I don't know why this is happening to me. I've been ordering from Amazon for years and never had any problems.\n",
      "Agent: I apologize for any inconvenience this has caused. I'm here to help you resolve the issue as quickly as possible. Can you please provide me with your correct address so I can assist you?\n",
      "Customer: (frustrated) Fine. It's 123 Main St, Apartment 302. Can you please fix this and get my blanket delivered to me?\n",
      "Agent: (nodding) Of course, I understand. I'm going to go ahead and update the address on your order. Can you please hold for just a moment while I process this?\n",
      "Customer: (sighs) Okay, thank you.\n",
      "Agent: (pause) Great, I've updated the address on your order. Your blanket should be delivered to you within the next 3-5 business days. Is there anything else I can assist you with?\n",
      "Customer: (disappointed) No, that's all. Thank you for your help.\n",
      "Agent: You're welcome. Is there anything else I can do for you?\n",
      "Customer: (hesitates) No, that's all. Thank you again.\n",
      "Agent: You're welcome. Have a great day!\n",
      "\n",
      "In this scenario, the customer service agent is trying to help the customer resolve an issue with their Amazon delivery order. The customer did not receive the item they ordered, and the agent is working to update the address on the order to ensure that the customer receives their item as soon as possible. The agent is empathetic and professional throughout the conversation, and provides clear and concise explanations of the steps they are taking to resolve the issue.\n"
     ]
    }
   ],
   "source": [
    "#Far better result as than non finetuned model\n",
    "print(llm_f.generate(\"[INST]Tell me how to train my dog to sit[/INST]\"))\n",
    "print(\"XXXXXXXXXX\")\n",
    "print(llm_f.generate(\"What do you think of the planet mars\"))\n",
    "print(\"XXXXXXXXXX\")\n",
    "print(llm_f.generate(\"\"\"Agent: I'm here to help you with your Amazon deliver order.\n",
    "Customer: I didn't get my item\n",
    "Agent: I'm sorry to hear that. Which item was it?\n",
    "Customer: the blanket\n",
    "Agent:\"\"\"))"
   ]
  },
  {
   "cell_type": "code",
   "execution_count": 28,
   "metadata": {},
   "outputs": [],
   "source": [
    "#Lets explore the dataset that we want to finetune our model on\n",
    "#Here we are using the dataset alpaca from tatsu-lab\n",
    "#Alpaca is a dataset of 52,000 instructions and demonstrations generated by OpenAI's text-davinci-003 engine. \n",
    "#This instruction data can be used to conduct instruction-tuning for language models and make the language model follow instruction better.\n",
    "pretrained_dataset = load_dataset(\"tatsu-lab/alpaca\", split=\"train\", streaming=True)"
   ]
  },
  {
   "cell_type": "code",
   "execution_count": 29,
   "metadata": {},
   "outputs": [
    {
     "name": "stdout",
     "output_type": "stream",
     "text": [
      "['instruction', 'input', 'output', 'text']\n"
     ]
    }
   ],
   "source": [
    "print(pretrained_dataset.column_names)"
   ]
  },
  {
   "cell_type": "markdown",
   "metadata": {},
   "source": [
    "Here text is the default prompt template provided the makers of the dataset but we will create our own prompt since we like to work more :)"
   ]
  },
  {
   "cell_type": "code",
   "execution_count": 30,
   "metadata": {},
   "outputs": [
    {
     "name": "stdout",
     "output_type": "stream",
     "text": [
      "52002\n"
     ]
    }
   ],
   "source": [
    "count=0\n",
    "for _ in pretrained_dataset:\n",
    "    count+=1\n",
    "print(count)"
   ]
  },
  {
   "cell_type": "code",
   "execution_count": 31,
   "metadata": {},
   "outputs": [
    {
     "name": "stdout",
     "output_type": "stream",
     "text": [
      "Pretrained dataset:\n",
      "{'instruction': 'Give three tips for staying healthy.', 'input': '', 'output': '1.Eat a balanced diet and make sure to include plenty of fruits and vegetables. \\n2. Exercise regularly to keep your body active and strong. \\n3. Get enough sleep and maintain a consistent sleep schedule.', 'text': 'Below is an instruction that describes a task. Write a response that appropriately completes the request.\\n\\n### Instruction:\\nGive three tips for staying healthy.\\n\\n### Response:\\n1.Eat a balanced diet and make sure to include plenty of fruits and vegetables. \\n2. Exercise regularly to keep your body active and strong. \\n3. Get enough sleep and maintain a consistent sleep schedule.'}\n",
      "\n",
      "{'instruction': 'What are the three primary colors?', 'input': '', 'output': 'The three primary colors are red, blue, and yellow.', 'text': 'Below is an instruction that describes a task. Write a response that appropriately completes the request.\\n\\n### Instruction:\\nWhat are the three primary colors?\\n\\n### Response:\\nThe three primary colors are red, blue, and yellow.'}\n",
      "\n",
      "{'instruction': 'Describe the structure of an atom.', 'input': '', 'output': 'An atom is made up of a nucleus, which contains protons and neutrons, surrounded by electrons that travel in orbits around the nucleus. The protons and neutrons have a positive charge, while the electrons have a negative charge, resulting in an overall neutral atom. The number of each particle determines the atomic number and the type of atom.', 'text': 'Below is an instruction that describes a task. Write a response that appropriately completes the request.\\n\\n### Instruction:\\nDescribe the structure of an atom.\\n\\n### Response:\\nAn atom is made up of a nucleus, which contains protons and neutrons, surrounded by electrons that travel in orbits around the nucleus. The protons and neutrons have a positive charge, while the electrons have a negative charge, resulting in an overall neutral atom. The number of each particle determines the atomic number and the type of atom.'}\n",
      "\n"
     ]
    }
   ],
   "source": [
    "n = 3\n",
    "print(\"Pretrained dataset:\")\n",
    "top_n = list(itertools.islice(pretrained_dataset, n))\n",
    "for i in top_n:\n",
    "  print(i)\n",
    "  print()\n",
    "#Its output basically consists of instructions and response"
   ]
  },
  {
   "cell_type": "markdown",
   "metadata": {},
   "source": [
    "Below is the different types of prompt template that we can use"
   ]
  },
  {
   "cell_type": "markdown",
   "metadata": {},
   "source": [
    "But we will create prompt according to our use case"
   ]
  },
  {
   "cell_type": "code",
   "execution_count": 32,
   "metadata": {},
   "outputs": [],
   "source": [
    "prompt_template_with_input = \"\"\"Below is an instruction that describes a task, paired with an input that provides further context. Write a response that appropriately completes the request.\n",
    "\n",
    "### Instruction:\n",
    "{instruction}\n",
    "\n",
    "### Input:\n",
    "{input}\n",
    "\n",
    "### Response:\"\"\""
   ]
  },
  {
   "cell_type": "code",
   "execution_count": 33,
   "metadata": {},
   "outputs": [],
   "source": [
    "prompt_template_without_input = \"\"\"Below is an instruction that describes a task. Write a response that appropriately completes the request.\n",
    "\n",
    "### Instruction:\n",
    "{instruction}\n",
    "\n",
    "### Response:\"\"\""
   ]
  },
  {
   "cell_type": "code",
   "execution_count": 34,
   "metadata": {},
   "outputs": [],
   "source": [
    "processed_data = []\n",
    "for j in top_n:\n",
    "  if j[\"input\"]:#if the input is there in the datapoint that use prompt template that handles the input\n",
    "    processed_prompt = prompt_template_with_input.format(instruction=j[\"instruction\"],input=j[\"input\"])\n",
    "  else:#If the input is not there in the datapoint then use the other prompt template that works on just instructions\n",
    "    processed_prompt = prompt_template_without_input.format(instruction=j[\"instruction\"])\n",
    "\n",
    "  processed_data.append({\"input\": processed_prompt, \"output\": j[\"output\"]})\n"
   ]
  },
  {
   "cell_type": "code",
   "execution_count": 35,
   "metadata": {},
   "outputs": [
    {
     "name": "stdout",
     "output_type": "stream",
     "text": [
      "{'input': 'Below is an instruction that describes a task. Write a response '\n",
      "          'that appropriately completes the request.\\n'\n",
      "          '\\n'\n",
      "          '### Instruction:\\n'\n",
      "          'What are the three primary colors?\\n'\n",
      "          '\\n'\n",
      "          '### Response:',\n",
      " 'output': 'The three primary colors are red, blue, and yellow.'}\n"
     ]
    }
   ],
   "source": [
    "#It tells what the model is gonna get that is input and what is it required to be outputted from the model which is given as output\n",
    "#This is what goes into the model\n",
    "pprint(processed_data[1])"
   ]
  },
  {
   "cell_type": "markdown",
   "metadata": {},
   "source": [
    "Save data to Jsonl"
   ]
  },
  {
   "cell_type": "code",
   "execution_count": 36,
   "metadata": {},
   "outputs": [],
   "source": [
    "with jsonlines.open(f'alpaca_processed.jsonl', 'w') as writer:\n",
    "    writer.write_all(processed_data)"
   ]
  },
  {
   "cell_type": "code",
   "execution_count": 37,
   "metadata": {},
   "outputs": [
    {
     "name": "stdout",
     "output_type": "stream",
     "text": [
      "DatasetDict({\n",
      "    train: Dataset({\n",
      "        features: ['input', 'output'],\n",
      "        num_rows: 52002\n",
      "    })\n",
      "})\n"
     ]
    }
   ],
   "source": [
    "#Both the dataset it lamini/alpaca and tatsu-labs/alpaca are same and contain 52002 datapoints in it.\n",
    "#It just the structured form of it \n",
    "dataset_path_hf = \"lamini/alpaca\"\n",
    "dataset_hf = load_dataset(dataset_path_hf)\n",
    "pprint(dataset_hf)"
   ]
  },
  {
   "cell_type": "markdown",
   "metadata": {},
   "source": [
    "Example Demonstrating the how to use an example at inference time."
   ]
  },
  {
   "cell_type": "code",
   "execution_count": 59,
   "metadata": {},
   "outputs": [
    {
     "name": "stderr",
     "output_type": "stream",
     "text": [
      "d:\\Dhruv_Sandhu\\Machine Learning\\Projects\\Fine_tuning\\finenv\\lib\\site-packages\\transformers\\tokenization_utils_base.py:1601: FutureWarning: `clean_up_tokenization_spaces` was not set. It will be set to `True` by default. This behavior will be depracted in transformers v4.45, and will be then set to `False` by default. For more details check this issue: https://github.com/huggingface/transformers/issues/31884\n",
      "  warnings.warn(\n"
     ]
    }
   ],
   "source": [
    "tokenizer = AutoTokenizer.from_pretrained(\"EleutherAI/pythia-70m\")\n",
    "model = AutoModelForCausalLM.from_pretrained(\"EleutherAI/pythia-70m\")"
   ]
  },
  {
   "cell_type": "code",
   "execution_count": 60,
   "metadata": {},
   "outputs": [],
   "source": [
    "#These are some heavy models and take huge time.\n",
    "# tokenizer = AutoTokenizer.from_pretrained(\"meta-llama/Llama-2-7b-chat-hf\")\n",
    "# model = AutoModelForCausalLM.from_pretrained(\"meta-llama/Llama-2-7b-chat-hf\")"
   ]
  },
  {
   "cell_type": "markdown",
   "metadata": {},
   "source": [
    "Below is an inference function which shows the working of how a particular datapoint is given to a finetuned as well as non-finetuned model\n",
    "This is not for training it just how the model deals with an input at the inference time"
   ]
  },
  {
   "cell_type": "code",
   "execution_count": 64,
   "metadata": {},
   "outputs": [],
   "source": [
    "def inference(text, model, tokenizer, max_input_tokens=1000, max_output_tokens=100):\n",
    "  # Tokenize\n",
    "  input_ids = tokenizer.encode(\n",
    "          text,\n",
    "          return_tensors=\"pt\",#give the output in pytorch tensors\n",
    "          truncation=True,\n",
    "          max_length=max_input_tokens\n",
    "  )\n",
    "\n",
    "  # Generate\n",
    "  device = model.device\n",
    "  generated_tokens_with_prompt = model.generate(\n",
    "    input_ids=input_ids.to(device),\n",
    "    max_length=max_output_tokens\n",
    "  )\n",
    "\n",
    "  # Decode\n",
    "  generated_text_with_prompt = tokenizer.batch_decode(generated_tokens_with_prompt, skip_special_tokens=True)\n",
    "\n",
    "  # Strip the prompt\n",
    "  generated_text_answer = generated_text_with_prompt[0]\n",
    "\n",
    "  return generated_text_answer"
   ]
  },
  {
   "cell_type": "code",
   "execution_count": 65,
   "metadata": {},
   "outputs": [
    {
     "name": "stdout",
     "output_type": "stream",
     "text": [
      "DatasetDict({\n",
      "    train: Dataset({\n",
      "        features: ['question', 'answer', 'input_ids', 'attention_mask', 'labels'],\n",
      "        num_rows: 1260\n",
      "    })\n",
      "    test: Dataset({\n",
      "        features: ['question', 'answer', 'input_ids', 'attention_mask', 'labels'],\n",
      "        num_rows: 140\n",
      "    })\n",
      "})\n"
     ]
    }
   ],
   "source": [
    "finetuning_dataset_path = \"lamini/lamini_docs\"\n",
    "finetuning_dataset = load_dataset(finetuning_dataset_path)\n",
    "print(finetuning_dataset)"
   ]
  },
  {
   "cell_type": "code",
   "execution_count": 66,
   "metadata": {},
   "outputs": [
    {
     "name": "stderr",
     "output_type": "stream",
     "text": [
      "The attention mask and the pad token id were not set. As a consequence, you may observe unexpected behavior. Please pass your input's `attention_mask` to obtain reliable results.\n",
      "Setting `pad_token_id` to `eos_token_id`:0 for open-end generation.\n"
     ]
    },
    {
     "name": "stdout",
     "output_type": "stream",
     "text": [
      "{'question': 'Can Lamini generate technical documentation or user manuals for software projects?', 'answer': 'Yes, Lamini can generate technical documentation and user manuals for software projects. It uses natural language generation techniques to create clear and concise documentation that is easy to understand for both technical and non-technical users. This can save developers a significant amount of time and effort in creating documentation, allowing them to focus on other aspects of their projects.', 'input_ids': [5804, 418, 4988, 74, 6635, 7681, 10097, 390, 2608, 11595, 84, 323, 3694, 6493, 32, 4374, 13, 418, 4988, 74, 476, 6635, 7681, 10097, 285, 2608, 11595, 84, 323, 3694, 6493, 15, 733, 4648, 3626, 3448, 5978, 5609, 281, 2794, 2590, 285, 44003, 10097, 326, 310, 3477, 281, 2096, 323, 1097, 7681, 285, 1327, 14, 48746, 4212, 15, 831, 476, 5321, 12259, 247, 1534, 2408, 273, 673, 285, 3434, 275, 6153, 10097, 13, 6941, 731, 281, 2770, 327, 643, 7794, 273, 616, 6493, 15], 'attention_mask': [1, 1, 1, 1, 1, 1, 1, 1, 1, 1, 1, 1, 1, 1, 1, 1, 1, 1, 1, 1, 1, 1, 1, 1, 1, 1, 1, 1, 1, 1, 1, 1, 1, 1, 1, 1, 1, 1, 1, 1, 1, 1, 1, 1, 1, 1, 1, 1, 1, 1, 1, 1, 1, 1, 1, 1, 1, 1, 1, 1, 1, 1, 1, 1, 1, 1, 1, 1, 1, 1, 1, 1, 1, 1, 1, 1, 1, 1, 1, 1, 1, 1, 1, 1], 'labels': [5804, 418, 4988, 74, 6635, 7681, 10097, 390, 2608, 11595, 84, 323, 3694, 6493, 32, 4374, 13, 418, 4988, 74, 476, 6635, 7681, 10097, 285, 2608, 11595, 84, 323, 3694, 6493, 15, 733, 4648, 3626, 3448, 5978, 5609, 281, 2794, 2590, 285, 44003, 10097, 326, 310, 3477, 281, 2096, 323, 1097, 7681, 285, 1327, 14, 48746, 4212, 15, 831, 476, 5321, 12259, 247, 1534, 2408, 273, 673, 285, 3434, 275, 6153, 10097, 13, 6941, 731, 281, 2770, 327, 643, 7794, 273, 616, 6493, 15]}\n",
      "('\\n'\n",
      " '\\n'\n",
      " 'I have a question about the following:\\n'\n",
      " '\\n'\n",
      " 'How do I get the correct documentation to work?\\n'\n",
      " '\\n'\n",
      " 'A:\\n'\n",
      " '\\n'\n",
      " 'I think you need to use the following code:\\n'\n",
      " '\\n'\n",
      " 'A:\\n'\n",
      " '\\n'\n",
      " 'You can use the following code to get the correct documentation.\\n'\n",
      " '\\n'\n",
      " 'A:\\n'\n",
      " '\\n'\n",
      " 'You can use the following code to get the correct documentation.\\n'\n",
      " '\\n'\n",
      " 'A:\\n'\n",
      " '\\n'\n",
      " 'You can use the following')\n"
     ]
    }
   ],
   "source": [
    "test_sample = finetuning_dataset[\"test\"][0]\n",
    "print(test_sample)\n",
    "\n",
    "pprint(inference(test_sample[\"question\"], model, tokenizer))"
   ]
  },
  {
   "cell_type": "code",
   "execution_count": 43,
   "metadata": {},
   "outputs": [],
   "source": [
    "instruction_model = AutoModelForCausalLM.from_pretrained(\"lamini/lamini_docs_finetuned\")"
   ]
  },
  {
   "cell_type": "code",
   "execution_count": 45,
   "metadata": {},
   "outputs": [
    {
     "name": "stderr",
     "output_type": "stream",
     "text": [
      "The attention mask and the pad token id were not set. As a consequence, you may observe unexpected behavior. Please pass your input's `attention_mask` to obtain reliable results.\n",
      "Setting `pad_token_id` to `eos_token_id`:0 for open-end generation.\n"
     ]
    },
    {
     "name": "stdout",
     "output_type": "stream",
     "text": [
      "('Yes, Lamini can generate technical documentation or user manuals for '\n",
      " 'software projects. This can be achieved by providing a prompt for a specific '\n",
      " 'technical question or question to the LLM Engine, or by providing a prompt '\n",
      " 'for a specific technical question or question. Additionally, Lamini can be '\n",
      " 'trained on specific technical questions or questions to help users '\n",
      " 'understand the process and provide feedback to the LLM Engine. Additionally, '\n",
      " 'Lamini')\n"
     ]
    }
   ],
   "source": [
    "pprint(inference(test_sample[\"question\"], instruction_model, tokenizer))"
   ]
  },
  {
   "cell_type": "code",
   "execution_count": 53,
   "metadata": {},
   "outputs": [],
   "source": [
    "model=lamini.Lamini(\"EleutherAI/pythia-70m\")"
   ]
  },
  {
   "cell_type": "code",
   "execution_count": 55,
   "metadata": {},
   "outputs": [
    {
     "name": "stdout",
     "output_type": "stream",
     "text": [
      "('\\n'\n",
      " '\\n'\n",
      " \"I'm not sure if I'm going to be able to train my dog.\\n\"\n",
      " '\\n'\n",
      " 'A:\\n'\n",
      " '\\n'\n",
      " \"I'm not sure if I'm going to be able to train my dog.\\n\"\n",
      " '\\n'\n",
      " 'A:\\n'\n",
      " '\\n'\n",
      " \"I'm not sure if I'm going to be able to train my dog.\\n\"\n",
      " '\\n'\n",
      " 'A:\\n'\n",
      " '\\n'\n",
      " \"I'm not sure if I'm going to be able to train my dog.\\n\"\n",
      " '\\n'\n",
      " 'A:\\n'\n",
      " '\\n'\n",
      " \"I'm not sure if I'm going to be able to train my dog.\\n\"\n",
      " '\\n'\n",
      " 'A:\\n'\n",
      " '\\n'\n",
      " \"I'm not sure if I'm going to be able to train my dog.\\n\"\n",
      " '\\n'\n",
      " 'A:\\n'\n",
      " '\\n'\n",
      " \"I'm not sure if I'm going to be able to train my dog.\\n\"\n",
      " '\\n'\n",
      " 'A:\\n'\n",
      " '\\n'\n",
      " \"I'm not sure if I'm going to be able to train my dog.\\n\"\n",
      " '\\n'\n",
      " 'A:\\n'\n",
      " '\\n'\n",
      " \"I'm not sure if I'm going to be able to train my dog.\\n\"\n",
      " '\\n'\n",
      " 'A:\\n'\n",
      " '\\n'\n",
      " \"I'm not sure if I'm going to be able to train my dog.\\n\"\n",
      " '\\n'\n",
      " 'A:\\n'\n",
      " '\\n'\n",
      " \"I'm not sure if I'm going to be able to train my dog.\\n\"\n",
      " '\\n'\n",
      " 'A:\\n'\n",
      " '\\n'\n",
      " \"I'm not sure if I'm going to be able to train my dog.\\n\"\n",
      " '\\n'\n",
      " 'A:\\n'\n",
      " '\\n'\n",
      " \"I'm not sure if I'm going to be able to train my dog.\\n\"\n",
      " '\\n'\n",
      " 'A:\\n'\n",
      " '\\n'\n",
      " \"I'm not sure if I'm going to be able to train my dog.\\n\"\n",
      " '\\n'\n",
      " 'A:\\n'\n",
      " '\\n'\n",
      " \"I'm not sure if I'm going to be able to train my dog.\\n\"\n",
      " '\\n'\n",
      " 'A:\\n'\n",
      " '\\n'\n",
      " \"I'm not sure if I'm going to be able to train my dog.\\n\"\n",
      " '\\n'\n",
      " 'A:\\n'\n",
      " '\\n'\n",
      " \"I'm not sure if I'm going to be able to train my dog.\\n\"\n",
      " '\\n'\n",
      " 'A:\\n'\n",
      " '\\n'\n",
      " \"I'm not sure if I'm going to be able to train my dog.\\n\"\n",
      " '\\n'\n",
      " 'A:\\n'\n",
      " '\\n'\n",
      " \"I'm not sure if I'm going to be able to train my dog.\\n\"\n",
      " '\\n'\n",
      " 'A:\\n'\n",
      " '\\n'\n",
      " \"I'm not sure if I'm going to be able to train my dog.\\n\"\n",
      " '\\n'\n",
      " 'A:\\n'\n",
      " '\\n'\n",
      " \"I'm not sure if I'm going to be able to train my dog.\\n\"\n",
      " '\\n'\n",
      " 'A:\\n'\n",
      " '\\n'\n",
      " \"I'm not sure if I'm going to be able to train my dog.\\n\"\n",
      " '\\n'\n",
      " 'A:\\n'\n",
      " '\\n'\n",
      " \"I'm not sure if I'm going to be able to train my dog.\\n\"\n",
      " '\\n'\n",
      " 'A:\\n'\n",
      " '\\n'\n",
      " \"I'm not sure if I'm going to be able to train my dog.\\n\"\n",
      " '\\n'\n",
      " 'A:\\n'\n",
      " '\\n'\n",
      " \"I'm not sure if I'm going to be able to train my dog.\\n\"\n",
      " '\\n'\n",
      " 'A:\\n'\n",
      " '\\n'\n",
      " \"I'm not sure if I'm going to be able to train my dog.\\n\"\n",
      " '\\n'\n",
      " 'A:\\n'\n",
      " '\\n'\n",
      " \"I'm not sure if I'm going to be able to train my dog.\\n\"\n",
      " '\\n'\n",
      " 'A:\\n'\n",
      " '\\n'\n",
      " \"I'm not sure if I'm going to be able to train my dog.\\n\"\n",
      " '\\n'\n",
      " 'A:\\n'\n",
      " '\\n'\n",
      " \"I'm not sure if I'm going to be able to train my dog.\\n\"\n",
      " '\\n'\n",
      " 'A:\\n'\n",
      " '\\n'\n",
      " \"I'm not sure if I'm going to be able to train my dog.\\n\"\n",
      " '\\n'\n",
      " 'A:\\n'\n",
      " '\\n'\n",
      " \"I'm not sure if I'm going to be able to train my dog.\\n\"\n",
      " '\\n'\n",
      " 'A:\\n'\n",
      " '\\n'\n",
      " \"I'm not sure if I'm going to be able to train my dog.\\n\"\n",
      " '\\n'\n",
      " 'A:\\n'\n",
      " '\\n'\n",
      " \"I'm not sure if I'm going to be able to train my dog.\\n\"\n",
      " '\\n'\n",
      " 'A:\\n'\n",
      " '\\n'\n",
      " \"I'm not sure if I'm going to be able to train my dog.\\n\"\n",
      " '\\n'\n",
      " 'A:\\n'\n",
      " '\\n'\n",
      " \"I'm not sure if I'm going to be able to train my dog.\\n\"\n",
      " '\\n'\n",
      " 'A:\\n'\n",
      " '\\n'\n",
      " \"I'm not sure if I'm going to be able to train my dog.\\n\"\n",
      " '\\n'\n",
      " 'A:\\n'\n",
      " '\\n'\n",
      " \"I'm not sure if I'm going to be able to train my dog.\\n\"\n",
      " '\\n'\n",
      " 'A:\\n'\n",
      " '\\n'\n",
      " \"I'm not sure if I'm going to be able to train my dog.\\n\"\n",
      " '\\n'\n",
      " 'A:\\n'\n",
      " '\\n'\n",
      " \"I'm not sure if I'm going to be able to train my dog.\\n\"\n",
      " '\\n'\n",
      " 'A:\\n'\n",
      " '\\n'\n",
      " \"I'm not sure if I'm going to be able to train my dog.\\n\"\n",
      " '\\n'\n",
      " 'A:\\n'\n",
      " '\\n'\n",
      " \"I'm not sure if I'm going to be able to train my dog.\\n\"\n",
      " '\\n'\n",
      " 'A:\\n'\n",
      " '\\n'\n",
      " \"I'm not sure if I'm going to be able to train my dog.\\n\"\n",
      " '\\n'\n",
      " 'A:\\n'\n",
      " '\\n'\n",
      " \"I'm not sure if I'm going to be able to train my dog.\\n\"\n",
      " '\\n'\n",
      " 'A:\\n'\n",
      " '\\n'\n",
      " \"I'm not sure if I'm going to be able to train my dog.\\n\"\n",
      " '\\n'\n",
      " 'A:\\n'\n",
      " '\\n'\n",
      " \"I'm not sure if I'm going to be able to train my dog.\\n\"\n",
      " '\\n'\n",
      " 'A:\\n'\n",
      " '\\n'\n",
      " \"I'm not sure if I'm going to be able to train my dog.\\n\"\n",
      " '\\n'\n",
      " 'A:\\n'\n",
      " '\\n'\n",
      " \"I'm not sure if I'm going to be able to train my dog.\\n\"\n",
      " '\\n'\n",
      " 'A:\\n'\n",
      " '\\n'\n",
      " \"I'm not sure if I'm going to be able to train my dog.\\n\"\n",
      " '\\n'\n",
      " 'A:\\n'\n",
      " '\\n'\n",
      " \"I'm not sure if I'm going to be able to train my dog.\\n\"\n",
      " '\\n'\n",
      " 'A:\\n'\n",
      " '\\n'\n",
      " \"I'm not sure if I'm going to be able to train my dog.\\n\"\n",
      " '\\n'\n",
      " 'A:\\n'\n",
      " '\\n'\n",
      " \"I'm not sure if I'm going to be able to train my dog.\\n\"\n",
      " '\\n'\n",
      " 'A:\\n'\n",
      " '\\n'\n",
      " \"I'm not sure if I'm going to be able to train my dog.\\n\"\n",
      " '\\n'\n",
      " 'A:\\n'\n",
      " '\\n'\n",
      " \"I'm not sure if I'm going to be able to train my dog.\\n\"\n",
      " '\\n'\n",
      " 'A:\\n'\n",
      " '\\n'\n",
      " \"I'm not sure if I'm going to be able to train my dog.\\n\"\n",
      " '\\n'\n",
      " 'A:\\n'\n",
      " '\\n'\n",
      " \"I'm not sure if I'm going to be able to train my dog.\\n\"\n",
      " '\\n'\n",
      " 'A:\\n'\n",
      " '\\n'\n",
      " \"I'm not sure if I'm going to be able to train my dog.\\n\"\n",
      " '\\n'\n",
      " 'A:\\n'\n",
      " '\\n'\n",
      " \"I'm not sure if I'm going to be able to train my dog.\\n\"\n",
      " '\\n'\n",
      " 'A:\\n'\n",
      " '\\n'\n",
      " \"I'm not sure if I'm going to be able to train my dog.\\n\"\n",
      " '\\n'\n",
      " 'A:\\n'\n",
      " '\\n'\n",
      " \"I'm not sure if I'm going to be able to train my dog.\\n\"\n",
      " '\\n'\n",
      " 'A:\\n'\n",
      " '\\n'\n",
      " \"I'm not sure if I'm going to be able to train my dog.\\n\"\n",
      " '\\n'\n",
      " 'A:\\n'\n",
      " '\\n'\n",
      " \"I'm not sure if I'm going to be able to train my dog.\\n\"\n",
      " '\\n'\n",
      " 'A:\\n'\n",
      " '\\n'\n",
      " \"I'm not sure if I'm going to be able to train my dog.\\n\"\n",
      " '\\n'\n",
      " 'A:\\n'\n",
      " '\\n'\n",
      " \"I'm not sure if I'm going to be able to train my dog.\\n\"\n",
      " '\\n'\n",
      " 'A:\\n'\n",
      " '\\n'\n",
      " \"I'm not sure if I'm going to be able to train my dog.\\n\"\n",
      " '\\n'\n",
      " 'A:\\n'\n",
      " '\\n'\n",
      " \"I'm not sure if I'm going to be able to train my dog.\\n\"\n",
      " '\\n'\n",
      " 'A:\\n'\n",
      " '\\n'\n",
      " \"I'm not sure if I'm going to be able to train my dog.\\n\"\n",
      " '\\n'\n",
      " 'A:\\n'\n",
      " '\\n'\n",
      " \"I'm not sure if I'm going to be able to train my dog.\\n\"\n",
      " '\\n'\n",
      " 'A:\\n'\n",
      " '\\n'\n",
      " \"I'm not sure if I'm going to be able to train my dog.\\n\"\n",
      " '\\n'\n",
      " 'A:\\n'\n",
      " '\\n'\n",
      " \"I'm not sure if I'm going to be able to train my dog.\\n\"\n",
      " '\\n'\n",
      " 'A:\\n'\n",
      " '\\n'\n",
      " \"I'm not sure if I'm going to be able to train my dog.\\n\"\n",
      " '\\n'\n",
      " 'A:\\n'\n",
      " '\\n'\n",
      " \"I'm not sure if I'm going to be able to train my dog.\\n\"\n",
      " '\\n'\n",
      " 'A:\\n'\n",
      " '\\n'\n",
      " \"I'm not sure if I'm going to be able to train my dog.\\n\"\n",
      " '\\n'\n",
      " 'A:\\n'\n",
      " '\\n'\n",
      " \"I'm not sure if I'm going to be able to train my dog.\\n\"\n",
      " '\\n'\n",
      " 'A:\\n'\n",
      " '\\n'\n",
      " \"I'm not sure if I'm going to be able to train my dog.\\n\"\n",
      " '\\n'\n",
      " 'A:\\n'\n",
      " '\\n'\n",
      " \"I'm not sure if I'm going to be able to train my dog.\\n\"\n",
      " '\\n'\n",
      " 'A:\\n'\n",
      " '\\n'\n",
      " \"I'm not sure if I'm going to be able to train my dog.\\n\"\n",
      " '\\n'\n",
      " 'A:\\n'\n",
      " '\\n'\n",
      " \"I'm not sure if I'm going to be able to train my dog.\\n\"\n",
      " '\\n'\n",
      " 'A:\\n'\n",
      " '\\n'\n",
      " \"I'm not sure if I'm going to be able to train my dog.\\n\"\n",
      " '\\n'\n",
      " 'A:\\n'\n",
      " '\\n'\n",
      " \"I'm not sure if I'm going to be able to train my dog.\\n\"\n",
      " '\\n'\n",
      " 'A:\\n'\n",
      " '\\n'\n",
      " \"I'm not sure if I'm going to be able to train my dog.\\n\"\n",
      " '\\n'\n",
      " 'A:\\n'\n",
      " '\\n'\n",
      " \"I'm not sure if I'm going to be able to train my dog.\\n\"\n",
      " '\\n'\n",
      " 'A:\\n'\n",
      " '\\n'\n",
      " \"I'm not sure if I'm going to be able to train my dog.\\n\"\n",
      " '\\n'\n",
      " 'A:\\n'\n",
      " '\\n'\n",
      " \"I'm not sure if I'm going to be able to train my dog.\\n\"\n",
      " '\\n'\n",
      " 'A:\\n'\n",
      " '\\n'\n",
      " \"I'm not sure if I'm going to be able to train my dog.\\n\"\n",
      " '\\n'\n",
      " 'A:\\n'\n",
      " '\\n'\n",
      " \"I'm not sure if I'm going to be able to train my dog.\\n\"\n",
      " '\\n'\n",
      " 'A:\\n'\n",
      " '\\n'\n",
      " \"I'm not sure if I'm going to be able to train my dog.\\n\"\n",
      " '\\n'\n",
      " 'A:\\n'\n",
      " '\\n'\n",
      " \"I'm not sure if I'm going to be able to train my dog.\\n\"\n",
      " '\\n'\n",
      " 'A:\\n'\n",
      " '\\n'\n",
      " \"I'm not sure if I'm going to be able to train my dog.\\n\"\n",
      " '\\n'\n",
      " 'A:\\n'\n",
      " '\\n'\n",
      " \"I'm not sure if I'm going to be able to train my dog.\\n\"\n",
      " '\\n'\n",
      " 'A:\\n'\n",
      " '\\n'\n",
      " \"I'm not sure if I'm going to be able to train my dog.\\n\"\n",
      " '\\n'\n",
      " 'A:\\n'\n",
      " '\\n'\n",
      " \"I'm not sure if I'm going to be able to train my dog.\\n\"\n",
      " '\\n'\n",
      " 'A:\\n'\n",
      " '\\n'\n",
      " \"I'm not sure if I'm going to be able to train my dog.\\n\"\n",
      " '\\n'\n",
      " 'A:\\n'\n",
      " '\\n'\n",
      " \"I'm not sure if I'm going to be able to train my dog.\")\n"
     ]
    }
   ],
   "source": [
    "pprint(model.generate(\"How to train my dog?\"))"
   ]
  },
  {
   "cell_type": "code",
   "execution_count": null,
   "metadata": {},
   "outputs": [],
   "source": []
  }
 ],
 "metadata": {
  "kernelspec": {
   "display_name": "Python 3",
   "language": "python",
   "name": "python3"
  },
  "language_info": {
   "codemirror_mode": {
    "name": "ipython",
    "version": 3
   },
   "file_extension": ".py",
   "mimetype": "text/x-python",
   "name": "python",
   "nbconvert_exporter": "python",
   "pygments_lexer": "ipython3",
   "version": "3.10.0"
  }
 },
 "nbformat": 4,
 "nbformat_minor": 2
}
